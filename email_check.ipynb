{
 "cells": [
  {
   "cell_type": "code",
   "execution_count": null,
   "metadata": {},
   "outputs": [],
   "source": [
    "import re\n",
    "import dns.resolver\n",
    "import smtplib\n",
    "import pandas as pd"
   ]
  },
  {
   "cell_type": "code",
   "execution_count": null,
   "metadata": {},
   "outputs": [],
   "source": [
    "def is_valid_email_format(email):\n",
    "    regex = r'^[a-zA-Z0-9._%+-]+@[a-zA-Z0-9.-]+\\.[a-zA-Z]{2,}$'\n",
    "    return re.match(regex, email) is not None\n",
    "    \n",
    "def get_dns_records(domain):\n",
    "    records = {}\n",
    "    \n",
    "    # Get MX records\n",
    "    try:\n",
    "        mx_records = dns.resolver.resolve(domain, 'MX')\n",
    "        records['MX'] = [mx.exchange.to_text() for mx in mx_records]\n",
    "    except Exception as e:\n",
    "        records['MX'] = f\"Error: {e}\"\n",
    "    \n",
    "    # Get A records\n",
    "    try:\n",
    "        a_records = dns.resolver.resolve(domain, 'A')\n",
    "        records['A'] = [a.address for a in a_records]\n",
    "    except Exception as e:\n",
    "        records['A'] = f\"Error: {e}\"\n",
    "    \n",
    "    # Get AAAA records\n",
    "    try:\n",
    "        aaaa_records = dns.resolver.resolve(domain, 'AAAA')\n",
    "        records['AAAA'] = [aaaa.address for aaaa in aaaa_records]\n",
    "    except Exception as e:\n",
    "        records['AAAA'] = f\"Error: {e}\"\n",
    "    \n",
    "    # Get NS records\n",
    "    try:\n",
    "        ns_records = dns.resolver.resolve(domain, 'NS')\n",
    "        records['NS'] = [ns.to_text() for ns in ns_records]\n",
    "    except Exception as e:\n",
    "        records['NS'] = f\"Error: {e}\"\n",
    "    \n",
    "    # Get TXT records\n",
    "    try:\n",
    "        txt_records = dns.resolver.resolve(domain, 'TXT')\n",
    "        records['TXT'] = [txt.to_text() for txt in txt_records]\n",
    "    except Exception as e:\n",
    "        records['TXT'] = f\"Error: {e}\"\n",
    "    \n",
    "    return records\n",
    "\n",
    "def verify_email(email):\n",
    "    if not is_valid_email_format(email):\n",
    "        print(\"Invalid email format\")\n",
    "        return False, \"Invalid email format\"\n",
    "    \n",
    "    domain = email.split('@')[1]\n",
    "    dns_records = get_dns_records(domain)\n",
    "    if not dns_records:\n",
    "        print(\"No DNS records found for domain\")\n",
    "        return False, \"No DNS records found for domain\"\n",
    "    \n",
    "    #for record_type, values in dns_records.items():\n",
    "    #    print(f\"{record_type} records: {values}\")\n",
    "    \n",
    "    # Try connecting to each MX server\n",
    "    for mx in dns_records['MX']:\n",
    "        try:\n",
    "            server = smtplib.SMTP(mx)\n",
    "            server.set_debuglevel(0)\n",
    "            server.helo()\n",
    "            server.mail('test@example.com')\n",
    "            code, message = server.rcpt(email)\n",
    "            server.quit()\n",
    "            if code == 250:\n",
    "                dns_records['EMAIL_EXISTS'] = True\n",
    "                return True, dns_records\n",
    "        except Exception as e:\n",
    "            print(f\"Error verifying email: {e}\")\n",
    "    dns_records['EMAIL_EXISTS'] = False\n",
    "    return True, dns_records"
   ]
  },
  {
   "cell_type": "code",
   "execution_count": null,
   "metadata": {},
   "outputs": [],
   "source": [
    "# Example usage\n",
    "email = \"benvanceuf@gmail.com\"\n",
    "dns_high_level, dns_details = verify_email(email)"
   ]
  },
  {
   "cell_type": "code",
   "execution_count": null,
   "metadata": {},
   "outputs": [],
   "source": [
    "dns_high_level"
   ]
  },
  {
   "cell_type": "code",
   "execution_count": null,
   "metadata": {},
   "outputs": [],
   "source": [
    "dns_details"
   ]
  },
  {
   "cell_type": "code",
   "execution_count": null,
   "metadata": {},
   "outputs": [],
   "source": []
  }
 ],
 "metadata": {
  "kernelspec": {
   "display_name": "Python 3",
   "language": "python",
   "name": "python3"
  },
  "language_info": {
   "codemirror_mode": {
    "name": "ipython",
    "version": 3
   },
   "file_extension": ".py",
   "mimetype": "text/x-python",
   "name": "python",
   "nbconvert_exporter": "python",
   "pygments_lexer": "ipython3",
   "version": "3.9.1"
  }
 },
 "nbformat": 4,
 "nbformat_minor": 2
}
