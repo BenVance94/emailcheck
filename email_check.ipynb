{
 "cells": [
  {
   "cell_type": "code",
   "execution_count": null,
   "metadata": {},
   "outputs": [],
   "source": [
    "import re, smtplib, requests\n",
    "import dns.resolver"
   ]
  },
  {
   "cell_type": "code",
   "execution_count": null,
   "metadata": {},
   "outputs": [],
   "source": [
    "def is_valid_email_format(email):\n",
    "    regex = r'^[a-zA-Z0-9._%+-]+@[a-zA-Z0-9.-]+\\.[a-zA-Z]{2,}$'\n",
    "    return re.match(regex, email) is not None\n",
    "\n",
    "def get_ip_geolocation(ip_address):\n",
    "    url = f\"https://ipinfo.io/{ip_address}/json\"\n",
    "    try:\n",
    "        response = requests.get(url)\n",
    "        response.raise_for_status()\n",
    "        data = response.json()\n",
    "        return data\n",
    "    \n",
    "    except requests.RequestException as e:\n",
    "        print(f\"Error retrieving geolocation information: {e}\")\n",
    "        return None\n",
    "    \n",
    "def get_dns_records(domain):\n",
    "    records = {}\n",
    "\n",
    "    dns_record_list = ['A', 'AAAA', 'MX', 'TXT', 'NS', 'SOA', 'CNAME', 'SPF', 'PTR', 'SRV', 'CERT', 'CAA']\n",
    "    for row in dns_record_list:\n",
    "        try:\n",
    "            tmp_records = dns.resolver.resolve(domain, row)\n",
    "            if row in ['MX']:\n",
    "                records[row] = [tmp.exchange.to_text() for tmp in tmp_records]\n",
    "            elif row in ['A', 'AAAA']:\n",
    "                records[row] = [tmp.address for tmp in tmp_records]\n",
    "            else:\n",
    "                records[row] = [tmp.to_text() for tmp in tmp_records]\n",
    "        except Exception as e:\n",
    "            records[row] = f\"Error: {e}\"\n",
    "    return records\n",
    "\n",
    "def verify_email(email):\n",
    "    if not is_valid_email_format(email):\n",
    "        print(\"Invalid email format\")\n",
    "        return False, \"Invalid email format\"\n",
    "    \n",
    "    domain = email.split('@')[1]\n",
    "    dns_records = get_dns_records(domain)\n",
    "    if not dns_records:\n",
    "        print(\"No DNS records found for domain\")\n",
    "        return False, \"No DNS records found for domain\"\n",
    "    \n",
    "    try:\n",
    "        ipv4_location = get_ip_geolocation(dns_records['A'][0])\n",
    "        dns_records['ipv4_location'] = ipv4_location\n",
    "    except Exception as e:\n",
    "        dns_records['ipv4_location'] = None\n",
    "\n",
    "    try:\n",
    "        ipv6_location = get_ip_geolocation(dns_records['AAAA'][0])\n",
    "        dns_records['ipv6_location'] = ipv6_location\n",
    "    except Exception as e:\n",
    "        dns_records['ipv6_location'] = None\n",
    "    \n",
    "    # Try connecting to each MX server\n",
    "    for mx in dns_records['MX']:\n",
    "        try:\n",
    "            server = smtplib.SMTP(mx)\n",
    "            server.set_debuglevel(0)\n",
    "            server.helo()\n",
    "            server.mail('test@example.com')\n",
    "            code, message = server.rcpt(email)\n",
    "            server.quit()\n",
    "            if code == 250:\n",
    "                dns_records['EMAIL_EXISTS'] = True\n",
    "                return True, dns_records\n",
    "        except Exception as e:\n",
    "            print(f\"Error verifying email: {e}\")\n",
    "    dns_records['EMAIL_EXISTS'] = False\n",
    "    return True, dns_records"
   ]
  },
  {
   "cell_type": "code",
   "execution_count": null,
   "metadata": {},
   "outputs": [],
   "source": [
    "# Example usage\n",
    "email = \"benvanceuf@gmail.com\"\n",
    "dns_high_level, dns_details = verify_email(email)"
   ]
  },
  {
   "cell_type": "code",
   "execution_count": null,
   "metadata": {},
   "outputs": [],
   "source": [
    "dns_high_level"
   ]
  },
  {
   "cell_type": "code",
   "execution_count": null,
   "metadata": {},
   "outputs": [],
   "source": [
    "dns_details"
   ]
  },
  {
   "cell_type": "code",
   "execution_count": null,
   "metadata": {},
   "outputs": [],
   "source": []
  }
 ],
 "metadata": {
  "kernelspec": {
   "display_name": "Python 3",
   "language": "python",
   "name": "python3"
  },
  "language_info": {
   "codemirror_mode": {
    "name": "ipython",
    "version": 3
   },
   "file_extension": ".py",
   "mimetype": "text/x-python",
   "name": "python",
   "nbconvert_exporter": "python",
   "pygments_lexer": "ipython3",
   "version": "3.9.1"
  }
 },
 "nbformat": 4,
 "nbformat_minor": 2
}
