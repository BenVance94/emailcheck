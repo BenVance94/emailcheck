{
 "cells": [
  {
   "cell_type": "code",
   "execution_count": null,
   "metadata": {},
   "outputs": [],
   "source": [
    "import re\n",
    "import dns.resolver\n",
    "import smtplib"
   ]
  },
  {
   "cell_type": "code",
   "execution_count": null,
   "metadata": {},
   "outputs": [],
   "source": [
    "\n",
    "def is_valid_email_format(email):\n",
    "    regex = r'^[a-zA-Z0-9._%+-]+@[a-zA-Z0-9.-]+\\.[a-zA-Z]{2,}$'\n",
    "    return re.match(regex, email) is not None\n",
    "\n",
    "def get_mx_records(domain):\n",
    "    try:\n",
    "        mx_records = dns.resolver.resolve(domain, 'MX')\n",
    "        return [record.exchange.to_text() for record in mx_records]\n",
    "    except Exception as e:\n",
    "        print(f\"Error retrieving MX records: {e}\")\n",
    "        return None\n",
    "\n",
    "def verify_email(email):\n",
    "    if not is_valid_email_format(email):\n",
    "        print(\"Invalid email format\")\n",
    "        return False\n",
    "    \n",
    "    domain = email.split('@')[1]\n",
    "    mx_records = get_mx_records(domain)\n",
    "    if not mx_records:\n",
    "        print(\"No MX records found for domain\")\n",
    "        return False\n",
    "    \n",
    "    # Try connecting to each MX server\n",
    "    for mx in mx_records:\n",
    "        try:\n",
    "            server = smtplib.SMTP(mx)\n",
    "            server.set_debuglevel(0)\n",
    "            server.helo()\n",
    "            server.mail('test@example.com')\n",
    "            code, message = server.rcpt(email)\n",
    "            server.quit()\n",
    "            if code == 250:\n",
    "                return True\n",
    "        except Exception as e:\n",
    "            print(f\"Error verifying email: {e}\")\n",
    "    \n",
    "    return False"
   ]
  },
  {
   "cell_type": "code",
   "execution_count": null,
   "metadata": {},
   "outputs": [],
   "source": [
    "\n",
    "# Example usage\n",
    "email = \"example@example.com\"\n",
    "if verify_email(email):\n",
    "    print(f\"The email {email} exists.\")\n",
    "else:\n",
    "    print(f\"The email {email} does not exist.\")"
   ]
  },
  {
   "cell_type": "code",
   "execution_count": null,
   "metadata": {},
   "outputs": [],
   "source": []
  }
 ],
 "metadata": {
  "kernelspec": {
   "display_name": "Python 3",
   "language": "python",
   "name": "python3"
  },
  "language_info": {
   "codemirror_mode": {
    "name": "ipython",
    "version": 3
   },
   "file_extension": ".py",
   "mimetype": "text/x-python",
   "name": "python",
   "nbconvert_exporter": "python",
   "pygments_lexer": "ipython3",
   "version": "3.9.1"
  }
 },
 "nbformat": 4,
 "nbformat_minor": 2
}
